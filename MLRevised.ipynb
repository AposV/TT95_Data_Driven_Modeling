{
 "cells": [
  {
   "cell_type": "code",
   "execution_count": 1,
   "metadata": {},
   "outputs": [],
   "source": [
    "import pandas as pd\n",
    "import numpy as np\n",
    "import matplotlib.pyplot as plt\n",
    "import scipy.stats as stats\n",
    "import scipy.signal as signal\n",
    "import matplotlib.dates as mdates\n",
    "import seaborn as sns\n",
    "\n",
    "plt.style.use('bmh')\n",
    "plt.rcParams[\"figure.figsize\"] = (18,6)\n",
    "plt.rcParams['figure.titlesize'] = 24\n",
    "plt.rcParams['axes.titlesize'] = 24\n",
    "plt.rcParams['axes.labelsize'] = 20\n",
    "plt.rcParams['xtick.labelsize'] = 16\n",
    "plt.rcParams['ytick.labelsize'] = 16\n",
    "plt.rcParams['legend.fontsize'] = 14\n",
    "\n",
    "three_ytd = pd.Timedelta(3*365+1, 'd')\n",
    "four_ytd = pd.Timedelta(4*365+1, 'd')\n",
    "\n",
    "degrees_celsius = u'\\N{DEGREE SIGN}'+\"C\"\n",
    "\n",
    "colour_2019 = 'purple'\n",
    "colour_2022 = 'green'\n",
    "colour_2023 = 'red'\n",
    "\n",
    "year_colors = {'2019':'purple',\n",
    "               '2020':'yellow',\n",
    "               '2021':'orange',\n",
    "               '2022':'green',\n",
    "               '2023':'red'}\n",
    "\n",
    "num_to_months={1:'Jan',\n",
    "               2:'Feb',\n",
    "               3:'Mar',\n",
    "               4:'Apr',\n",
    "               5:'May',\n",
    "               6:'Jun',\n",
    "               7:'Jul',\n",
    "               8:'Aug',\n",
    "               9:'Sep',\n",
    "               10:'Oct',\n",
    "               11:'Nov',\n",
    "               12:'Dec'}"
   ]
  },
  {
   "cell_type": "code",
   "execution_count": 2,
   "metadata": {},
   "outputs": [],
   "source": [
    "data = pd.read_csv(\"Prepared Datasets/Joined_Dataset.csv\")\n",
    "data['datetime'] = pd.to_datetime(data['datetime'])\n",
    "data = data.set_index(\"datetime\")\n",
    "data = data.dropna(how='all')"
   ]
  },
  {
   "cell_type": "code",
   "execution_count": 3,
   "metadata": {},
   "outputs": [],
   "source": [
    "from ML_Helpers import Modeling"
   ]
  },
  {
   "cell_type": "code",
   "execution_count": 1,
   "metadata": {},
   "outputs": [
    {
     "name": "stdout",
     "output_type": "stream",
     "text": [
      "Error empty dataset\n"
     ]
    },
    {
     "ename": "TypeError",
     "evalue": "object of type 'NoneType' has no len()",
     "output_type": "error",
     "traceback": [
      "\u001b[1;31m---------------------------------------------------------------------------\u001b[0m",
      "\u001b[1;31mTypeError\u001b[0m                                 Traceback (most recent call last)",
      "Cell \u001b[1;32mIn[1], line 43\u001b[0m\n\u001b[0;32m     41\u001b[0m dp \u001b[39m=\u001b[39m Data_Preprocessor()\n\u001b[0;32m     42\u001b[0m x_train, y_train \u001b[39m=\u001b[39m dp\u001b[39m.\u001b[39mprepare_dataset(x_train, y_train, timesteps\u001b[39m=\u001b[39m\u001b[39m24\u001b[39m)\n\u001b[1;32m---> 43\u001b[0m x_test, y_test \u001b[39m=\u001b[39m dp\u001b[39m.\u001b[39;49mprepare_dataset(x_test, y_test, timesteps\u001b[39m=\u001b[39;49m\u001b[39m24\u001b[39;49m)\n\u001b[0;32m     46\u001b[0m model \u001b[39m=\u001b[39m Sequential()\n\u001b[0;32m     47\u001b[0m model\u001b[39m.\u001b[39madd(LSTM(\u001b[39m32\u001b[39m, input_shape\u001b[39m=\u001b[39m(x_train\u001b[39m.\u001b[39mshape[\u001b[39m1\u001b[39m], x_train\u001b[39m.\u001b[39mshape[\u001b[39m2\u001b[39m])))\n",
      "File \u001b[1;32md:\\University\\MSc Civil Engineering\\Research\\ΤΤ95\\Monitoring System\\Analysis\\ML_Helpers\\Modeling.py:268\u001b[0m, in \u001b[0;36mData_Preprocessor.prepare_dataset\u001b[1;34m(self, x, y, timesteps)\u001b[0m\n\u001b[0;32m    267\u001b[0m \u001b[39mdef\u001b[39;00m \u001b[39mprepare_dataset\u001b[39m(\u001b[39mself\u001b[39m, x, y, timesteps):\n\u001b[1;32m--> 268\u001b[0m     \u001b[39mreturn\u001b[39;00m \u001b[39mself\u001b[39;49m\u001b[39m.\u001b[39;49mcreate_ts_batches(x, timesteps), np\u001b[39m.\u001b[39marray(y[timesteps:])\n",
      "File \u001b[1;32md:\\University\\MSc Civil Engineering\\Research\\ΤΤ95\\Monitoring System\\Analysis\\ML_Helpers\\Modeling.py:263\u001b[0m, in \u001b[0;36mData_Preprocessor.create_ts_batches\u001b[1;34m(self, series, timesteps)\u001b[0m\n\u001b[0;32m    261\u001b[0m \u001b[39mdef\u001b[39;00m \u001b[39mcreate_ts_batches\u001b[39m(\u001b[39mself\u001b[39m, series, timesteps):\n\u001b[0;32m    262\u001b[0m     x \u001b[39m=\u001b[39m []\n\u001b[1;32m--> 263\u001b[0m     \u001b[39mfor\u001b[39;00m i \u001b[39min\u001b[39;00m \u001b[39mrange\u001b[39m(\u001b[39mlen\u001b[39;49m(series) \u001b[39m-\u001b[39m timesteps):\n\u001b[0;32m    264\u001b[0m         x\u001b[39m.\u001b[39mappend(series[i:i\u001b[39m+\u001b[39mtimesteps])\n\u001b[0;32m    265\u001b[0m     \u001b[39mreturn\u001b[39;00m np\u001b[39m.\u001b[39marray(x)\n",
      "\u001b[1;31mTypeError\u001b[0m: object of type 'NoneType' has no len()"
     ]
    }
   ],
   "source": [
    "from ML_Helpers.Modeling import *\n",
    "from ML_Helpers.Experiment import *\n",
    "from ML_Helpers.Evaluation import *\n",
    "\n",
    "import numpy as np\n",
    "from keras.layers import Dense, LSTM\n",
    "from keras import Sequential\n",
    "import matplotlib.pyplot as plt\n",
    "\n",
    "import pandas as pd\n",
    "\n",
    "import tkinter as tk\n",
    "from tkinter import ttk\n",
    "from tensorflow.keras.models import Sequential\n",
    "from tensorflow.keras.layers import Dense, Flatten, Conv1D, MaxPooling1D\n",
    "import numpy as np\n",
    "import json\n",
    "\n",
    "data = pd.read_csv(\"Prepared Datasets/Joined_Dataset.csv\")\n",
    "\n",
    "inputs = data.loc[:, ['air_temp_ext1']]\n",
    "x_sample = np.random.random((10,3))\n",
    "y_sample = np.random.random((10,1))\n",
    "\n",
    "dataset = Dataset(dataframe=data)\n",
    "x_cols = [ \"air_temp_ext1\",\n",
    "                #\"air_temp_ib_facade\",\n",
    "                #\"air_temp_ib_roof\",\n",
    "                #\"r_humid_ib_roof\",\n",
    "                #\"r_humid_ib_facade\"\n",
    "                ]\n",
    "y_cols = [\"apperture_ext1\"]\n",
    "\n",
    "dataset.select_x_and_y_columns(x_cols, y_cols)\n",
    "dataset.apply_scaling(scaling_type=\"minmax\")\n",
    "dataset.split_data()\n",
    "\n",
    "x_train, y_train = dataset.get_train_data()\n",
    "x_test, y_test = dataset.get_test_data()\n",
    "\n",
    "dp = Data_Preprocessor()\n",
    "x_train, y_train = dp.prepare_dataset(x_train, y_train, timesteps=24)\n",
    "x_test, y_test = dp.prepare_dataset(x_test, y_test, timesteps=24)\n",
    "\n",
    "\n",
    "model = Sequential()\n",
    "model.add(LSTM(32, input_shape=(x_train.shape[1], x_train.shape[2])))\n",
    "model.add(Dense(8, activation='sigmoid'))\n",
    "model.add(Dense(1))\n",
    "\n",
    "model.compile(optimizer='adam', loss=\"mean_squared_error\")\n",
    "\n",
    "#history = model.fit(x_train, y_train,epochs=100)\n",
    "\n",
    "y_pred = model.predict(x_test)\n",
    "y_pred = dataset.y_scaler.inverse_transform(y_pred)\n",
    "y_test = dataset.y_scaler.inverse_transform(y_test)\n",
    "plt.plot(y_pred, label=\"Predicted\")\n",
    "plt.plot(y_test, label=\"actual\")\n",
    "plt.legend()\n",
    "#plt.plot(history.history[\"loss\"])\n",
    "plt.show()"
   ]
  },
  {
   "cell_type": "code",
   "execution_count": null,
   "metadata": {},
   "outputs": [],
   "source": [
    "dataset.dataframe"
   ]
  },
  {
   "cell_type": "code",
   "execution_count": null,
   "metadata": {},
   "outputs": [],
   "source": []
  },
  {
   "cell_type": "code",
   "execution_count": null,
   "metadata": {},
   "outputs": [],
   "source": []
  }
 ],
 "metadata": {
  "kernelspec": {
   "display_name": "mlenv",
   "language": "python",
   "name": "python3"
  },
  "language_info": {
   "codemirror_mode": {
    "name": "ipython",
    "version": 3
   },
   "file_extension": ".py",
   "mimetype": "text/x-python",
   "name": "python",
   "nbconvert_exporter": "python",
   "pygments_lexer": "ipython3",
   "version": "3.9.12"
  },
  "orig_nbformat": 4
 },
 "nbformat": 4,
 "nbformat_minor": 2
}
