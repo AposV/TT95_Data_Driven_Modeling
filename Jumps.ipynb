{
 "cells": [
  {
   "cell_type": "code",
   "execution_count": 1,
   "metadata": {},
   "outputs": [],
   "source": [
    "import pandas as pd\n",
    "import numpy as np\n",
    "import matplotlib.pyplot as plt\n",
    "import scipy.stats as stats\n",
    "import scipy.signal as signal\n",
    "import matplotlib.dates as mdates\n",
    "\n",
    "plt.style.use('bmh')\n",
    "plt.rcParams[\"figure.figsize\"] = (18,6)\n",
    "plt.rcParams['figure.titlesize'] = 24\n",
    "plt.rcParams['axes.titlesize'] = 24\n",
    "plt.rcParams['axes.labelsize'] = 20\n",
    "plt.rcParams['xtick.labelsize'] = 16\n",
    "plt.rcParams['ytick.labelsize'] = 16\n",
    "plt.rcParams['legend.fontsize'] = 14\n",
    "\n",
    "three_ytd = pd.Timedelta(3*365+1, 'd')\n",
    "four_ytd = pd.Timedelta(4*365+1, 'd')\n",
    "\n",
    "degrees_celsius = u'\\N{DEGREE SIGN}'+\"C\"\n",
    "\n",
    "colour_2019 = 'purple'\n",
    "colour_2022 = 'green'\n",
    "colour_2023 = 'red'"
   ]
  },
  {
   "cell_type": "code",
   "execution_count": null,
   "metadata": {},
   "outputs": [],
   "source": [
    "#Identify jumps\n",
    "#Calculate number of heating-hours (Celsius-hr) between jumps\n",
    "# plot heating-hours before jump"
   ]
  }
 ],
 "metadata": {
  "kernelspec": {
   "display_name": "mlenv",
   "language": "python",
   "name": "python3"
  },
  "language_info": {
   "codemirror_mode": {
    "name": "ipython",
    "version": 3
   },
   "file_extension": ".py",
   "mimetype": "text/x-python",
   "name": "python",
   "nbconvert_exporter": "python",
   "pygments_lexer": "ipython3",
   "version": "3.9.12"
  },
  "orig_nbformat": 4,
  "vscode": {
   "interpreter": {
    "hash": "c8fe8dbf940460a43bc43fb2b2c027ef41813b033a5bd4bc8da2197a38922bc2"
   }
  }
 },
 "nbformat": 4,
 "nbformat_minor": 2
}
