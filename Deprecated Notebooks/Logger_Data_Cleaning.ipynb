{
 "cells": [
  {
   "cell_type": "code",
   "execution_count": 38,
   "id": "54557e6e-e7b4-4116-9af3-b60de43046be",
   "metadata": {},
   "outputs": [],
   "source": [
    "import pandas as pd\n",
    "import matplotlib.pyplot as plt\n",
    "import re"
   ]
  },
  {
   "cell_type": "code",
   "execution_count": 39,
   "id": "adbb0e95-6f99-4985-88bf-99b260944cd8",
   "metadata": {},
   "outputs": [],
   "source": [
    "data = pd.read_csv('Preprocessing/190321067.csv', names=['Datetime', 'Logger','Something', 'Instrument', 'Air_Temp', 'Cr_Ap'])\n",
    "data['Datetime'] = pd.to_datetime(data['Datetime'])"
   ]
  },
  {
   "cell_type": "code",
   "execution_count": 42,
   "id": "3a6c8e02-242d-42ac-b3e5-ba3561b83383",
   "metadata": {},
   "outputs": [
    {
     "data": {
      "text/html": [
       "<div>\n",
       "<style scoped>\n",
       "    .dataframe tbody tr th:only-of-type {\n",
       "        vertical-align: middle;\n",
       "    }\n",
       "\n",
       "    .dataframe tbody tr th {\n",
       "        vertical-align: top;\n",
       "    }\n",
       "\n",
       "    .dataframe thead th {\n",
       "        text-align: right;\n",
       "    }\n",
       "</style>\n",
       "<table border=\"1\" class=\"dataframe\">\n",
       "  <thead>\n",
       "    <tr style=\"text-align: right;\">\n",
       "      <th></th>\n",
       "      <th>Datetime</th>\n",
       "      <th>Air_Temp</th>\n",
       "      <th>Cr_Ap</th>\n",
       "      <th>Cr_disp</th>\n",
       "      <th>Cr_sum_disp</th>\n",
       "    </tr>\n",
       "  </thead>\n",
       "  <tbody>\n",
       "    <tr>\n",
       "      <th>1</th>\n",
       "      <td>2022-03-23 17:00:00</td>\n",
       "      <td>24.5</td>\n",
       "      <td>5242</td>\n",
       "      <td>-1.0</td>\n",
       "      <td>-1.0</td>\n",
       "    </tr>\n",
       "    <tr>\n",
       "      <th>2</th>\n",
       "      <td>2022-03-23 18:00:00</td>\n",
       "      <td>24.5</td>\n",
       "      <td>5242</td>\n",
       "      <td>0.0</td>\n",
       "      <td>-1.0</td>\n",
       "    </tr>\n",
       "    <tr>\n",
       "      <th>3</th>\n",
       "      <td>2022-03-23 19:00:00</td>\n",
       "      <td>24.5</td>\n",
       "      <td>5241</td>\n",
       "      <td>-1.0</td>\n",
       "      <td>-2.0</td>\n",
       "    </tr>\n",
       "    <tr>\n",
       "      <th>4</th>\n",
       "      <td>2022-03-23 23:00:00</td>\n",
       "      <td>24.3</td>\n",
       "      <td>5240</td>\n",
       "      <td>-1.0</td>\n",
       "      <td>-3.0</td>\n",
       "    </tr>\n",
       "    <tr>\n",
       "      <th>5</th>\n",
       "      <td>2022-03-24 00:00:00</td>\n",
       "      <td>24.3</td>\n",
       "      <td>5241</td>\n",
       "      <td>1.0</td>\n",
       "      <td>-2.0</td>\n",
       "    </tr>\n",
       "    <tr>\n",
       "      <th>...</th>\n",
       "      <td>...</td>\n",
       "      <td>...</td>\n",
       "      <td>...</td>\n",
       "      <td>...</td>\n",
       "      <td>...</td>\n",
       "    </tr>\n",
       "    <tr>\n",
       "      <th>8623</th>\n",
       "      <td>2022-06-16 02:44:00</td>\n",
       "      <td>30.0</td>\n",
       "      <td>5034</td>\n",
       "      <td>1.0</td>\n",
       "      <td>-209.0</td>\n",
       "    </tr>\n",
       "    <tr>\n",
       "      <th>8624</th>\n",
       "      <td>2022-06-16 02:54:00</td>\n",
       "      <td>29.9</td>\n",
       "      <td>5033</td>\n",
       "      <td>-1.0</td>\n",
       "      <td>-210.0</td>\n",
       "    </tr>\n",
       "    <tr>\n",
       "      <th>8625</th>\n",
       "      <td>2022-06-16 03:24:00</td>\n",
       "      <td>29.9</td>\n",
       "      <td>5033</td>\n",
       "      <td>0.0</td>\n",
       "      <td>-210.0</td>\n",
       "    </tr>\n",
       "    <tr>\n",
       "      <th>8626</th>\n",
       "      <td>2022-06-16 03:34:00</td>\n",
       "      <td>29.9</td>\n",
       "      <td>5033</td>\n",
       "      <td>0.0</td>\n",
       "      <td>-210.0</td>\n",
       "    </tr>\n",
       "    <tr>\n",
       "      <th>8627</th>\n",
       "      <td>2022-06-16 04:04:00</td>\n",
       "      <td>29.9</td>\n",
       "      <td>5034</td>\n",
       "      <td>1.0</td>\n",
       "      <td>-209.0</td>\n",
       "    </tr>\n",
       "  </tbody>\n",
       "</table>\n",
       "<p>8627 rows × 5 columns</p>\n",
       "</div>"
      ],
      "text/plain": [
       "                Datetime  Air_Temp  Cr_Ap  Cr_disp  Cr_sum_disp\n",
       "1    2022-03-23 17:00:00      24.5   5242     -1.0         -1.0\n",
       "2    2022-03-23 18:00:00      24.5   5242      0.0         -1.0\n",
       "3    2022-03-23 19:00:00      24.5   5241     -1.0         -2.0\n",
       "4    2022-03-23 23:00:00      24.3   5240     -1.0         -3.0\n",
       "5    2022-03-24 00:00:00      24.3   5241      1.0         -2.0\n",
       "...                  ...       ...    ...      ...          ...\n",
       "8623 2022-06-16 02:44:00      30.0   5034      1.0       -209.0\n",
       "8624 2022-06-16 02:54:00      29.9   5033     -1.0       -210.0\n",
       "8625 2022-06-16 03:24:00      29.9   5033      0.0       -210.0\n",
       "8626 2022-06-16 03:34:00      29.9   5033      0.0       -210.0\n",
       "8627 2022-06-16 04:04:00      29.9   5034      1.0       -209.0\n",
       "\n",
       "[8627 rows x 5 columns]"
      ]
     },
     "execution_count": 42,
     "metadata": {},
     "output_type": "execute_result"
    }
   ],
   "source": [
    "aug22_data = data[data.Datetime > '2022-01-01']\n",
    "\n",
    "aug22_data.reset_index(inplace=True)\n",
    "aug22_data = aug22_data.drop(['Logger', 'Something', 'Instrument', 'index'], axis=1)\n",
    "\n",
    "aug22_data['Cr_disp'] = aug22_data.Cr_Ap.diff()\n",
    "aug22_data['Cr_sum_disp'] = aug22_data.Cr_disp.cumsum()\n",
    "\n",
    "aug22_data.dropna(inplace=True)\n",
    "\n",
    "#aug22_data['Air_Temp'] = aug22_data['Air_Temp'].apply(lambda x: int(re.sub('\\D', '', x))/10)\n",
    "aug22_data"
   ]
  },
  {
   "cell_type": "code",
   "execution_count": 43,
   "id": "75e5dbd4-eacf-4276-aa5a-42f02e5823cb",
   "metadata": {},
   "outputs": [],
   "source": [
    "aug22_data.to_csv('ext1_aug22.csv')"
   ]
  },
  {
   "cell_type": "code",
   "execution_count": 44,
   "id": "ec3cd521-40a8-4e7e-90cd-58a5549a002a",
   "metadata": {},
   "outputs": [
    {
     "data": {
      "text/plain": [
       "[<matplotlib.lines.Line2D at 0x28198557d90>]"
      ]
     },
     "execution_count": 44,
     "metadata": {},
     "output_type": "execute_result"
    },
    {
     "data": {
      "image/png": "[encoded data removed]",
      "text/plain": [
       "<Figure size 432x288 with 1 Axes>"
      ]
     },
     "metadata": {
      "needs_background": "light"
     },
     "output_type": "display_data"
    }
   ],
   "source": [
    "plt.plot(aug22_data.Datetime, aug22_data.Cr_Ap)"
   ]
  },
  {
   "cell_type": "code",
   "execution_count": null,
   "id": "57ed3971-0e8e-4446-a500-2f65d37ba3ad",
   "metadata": {},
   "outputs": [],
   "source": []
  },
  {
   "cell_type": "code",
   "execution_count": null,
   "id": "acd18975-856e-4837-8fc2-c09128762633",
   "metadata": {},
   "outputs": [],
   "source": []
  }
 ],
 "metadata": {
  "kernelspec": {
   "display_name": "Python [conda env:mlenv]",
   "language": "python",
   "name": "conda-env-mlenv-py"
  },
  "language_info": {
   "codemirror_mode": {
    "name": "ipython",
    "version": 3
   },
   "file_extension": ".py",
   "mimetype": "text/x-python",
   "name": "python",
   "nbconvert_exporter": "python",
   "pygments_lexer": "ipython3",
   "version": "3.9.12"
  }
 },
 "nbformat": 4,
 "nbformat_minor": 5
}
