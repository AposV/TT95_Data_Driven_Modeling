{
 "cells": [
  {
   "cell_type": "code",
   "execution_count": 1,
   "id": "26f1a539-2159-4439-8a53-baafbb33b0a9",
   "metadata": {},
   "outputs": [],
   "source": [
    "import torch\n",
    "from torch import nn\n",
    "from torch.utils.data import DataLoader\n",
    "import numpy as np"
   ]
  },
  {
   "cell_type": "code",
   "execution_count": 2,
   "id": "68e8412a-e59f-425d-8ae7-13b206236000",
   "metadata": {},
   "outputs": [],
   "source": [
    "data = [[1,2], [3,4]]\n",
    "x_data = torch.tensor(data)"
   ]
  },
  {
   "cell_type": "code",
   "execution_count": 3,
   "id": "526d4ec7-938c-4bc3-bef9-948d683076f1",
   "metadata": {},
   "outputs": [],
   "source": [
    "np_array = np.array(data)\n",
    "x_np = torch.from_numpy(np_array)"
   ]
  },
  {
   "cell_type": "code",
   "execution_count": 4,
   "id": "c263bcb7-d9d3-4d26-b5be-3e80c57189fc",
   "metadata": {},
   "outputs": [
    {
     "name": "stdout",
     "output_type": "stream",
     "text": [
      "Random Tensor: \n",
      " tensor([[0.5887, 0.3416, 0.2740],\n",
      "        [0.2244, 0.4483, 0.0147]]) \n",
      "\n",
      "Ones Tensor: \n",
      " tensor([[1., 1., 1.],\n",
      "        [1., 1., 1.]]) \n",
      "\n",
      "Zeros Tensor: \n",
      " tensor([[0., 0., 0.],\n",
      "        [0., 0., 0.]])\n"
     ]
    }
   ],
   "source": [
    "shape = (2,3)\n",
    "rand_tensor = torch.rand(shape)\n",
    "ones_tensor = torch.ones(shape)\n",
    "zeros_tensor = torch.zeros(shape)\n",
    "\n",
    "print(f\"Random Tensor: \\n {rand_tensor} \\n\")\n",
    "print(f\"Ones Tensor: \\n {ones_tensor} \\n\")\n",
    "print(f\"Zeros Tensor: \\n {zeros_tensor}\")"
   ]
  },
  {
   "cell_type": "code",
   "execution_count": 9,
   "id": "be0a70a5-d03a-4b56-aced-d7e24f33474b",
   "metadata": {},
   "outputs": [
    {
     "name": "stdout",
     "output_type": "stream",
     "text": [
      "Shape of tensor: torch.Size([3, 4])\n",
      "Datatype of tensor: torch.float32\n",
      "Device tensor is stored on: cpu\n"
     ]
    }
   ],
   "source": [
    "tensor = torch.rand(3,4)\n",
    "\n",
    "\n",
    "print(f\"Shape of tensor: {tensor.shape}\")\n",
    "print(f\"Datatype of tensor: {tensor.dtype}\")\n",
    "print(f\"Device tensor is stored on: {tensor.device}\")"
   ]
  },
  {
   "cell_type": "code",
   "execution_count": 10,
   "id": "3857f775-ab1c-4054-b744-635158cc2864",
   "metadata": {},
   "outputs": [
    {
     "data": {
      "text/plain": [
       "tensor([[0.5850, 0.9858, 0.0246, 0.4152],\n",
       "        [0.3054, 0.4695, 0.9291, 0.7773],\n",
       "        [0.5429, 0.6650, 0.5762, 0.8799]])"
      ]
     },
     "execution_count": 10,
     "metadata": {},
     "output_type": "execute_result"
    }
   ],
   "source": [
    "tensor"
   ]
  },
  {
   "cell_type": "code",
   "execution_count": 11,
   "id": "68f4bcee-77ae-4fbf-b01b-5a8ce8a90ca1",
   "metadata": {},
   "outputs": [],
   "source": [
    "t1 = torch.cat([tensor, tensor, tensor], dim=1)"
   ]
  },
  {
   "cell_type": "code",
   "execution_count": 29,
   "id": "405c2d64-86e3-4ac7-9eed-78417a0d759c",
   "metadata": {},
   "outputs": [],
   "source": [
    "y1 = tensor @ tensor.T"
   ]
  },
  {
   "cell_type": "code",
   "execution_count": 31,
   "id": "3b9634e6-160d-4db2-a5f8-fd1b9df4cc5d",
   "metadata": {},
   "outputs": [
    {
     "data": {
      "text/plain": [
       "tensor(7.1559)"
      ]
     },
     "execution_count": 31,
     "metadata": {},
     "output_type": "execute_result"
    }
   ],
   "source": [
    "agg = tensor.sum()\n",
    "agg"
   ]
  },
  {
   "cell_type": "code",
   "execution_count": 47,
   "id": "0e791a2e-6874-45c7-a2b4-5d67a4386c49",
   "metadata": {},
   "outputs": [
    {
     "name": "stdout",
     "output_type": "stream",
     "text": [
      "tensor([[5.5850, 5.9858, 5.0246, 5.4152],\n",
      "        [5.3054, 5.4695, 5.9291, 5.7773],\n",
      "        [5.5429, 5.6650, 5.5762, 5.8799]]) \n",
      "\n"
     ]
    }
   ],
   "source": [
    "print(f\"{tensor} \\n\")"
   ]
  },
  {
   "cell_type": "code",
   "execution_count": 49,
   "id": "725bdf4e-4846-4d3a-9d75-3c13b2ade9dd",
   "metadata": {},
   "outputs": [
    {
     "data": {
      "text/plain": [
       "array([[5.5850277, 5.985791 , 5.0245786, 5.4152203],\n",
       "       [5.305356 , 5.469516 , 5.929076 , 5.7772655],\n",
       "       [5.5428867, 5.665007 , 5.5762215, 5.879912 ]], dtype=float32)"
      ]
     },
     "execution_count": 49,
     "metadata": {},
     "output_type": "execute_result"
    }
   ],
   "source": [
    "t = tensor.numpy()\n",
    "t\n"
   ]
  },
  {
   "cell_type": "code",
   "execution_count": 50,
   "id": "28d138a5-c8a9-42ce-ad82-4c17658f944b",
   "metadata": {},
   "outputs": [
    {
     "data": {
      "text/plain": [
       "tensor([[6.5850, 6.9858, 6.0246, 6.4152],\n",
       "        [6.3054, 6.4695, 6.9291, 6.7773],\n",
       "        [6.5429, 6.6650, 6.5762, 6.8799]])"
      ]
     },
     "execution_count": 50,
     "metadata": {},
     "output_type": "execute_result"
    }
   ],
   "source": [
    "tensor.add_(1)"
   ]
  },
  {
   "cell_type": "code",
   "execution_count": 51,
   "id": "1c9baf16-13f7-4865-921c-728fa13f4e6a",
   "metadata": {},
   "outputs": [
    {
     "data": {
      "text/plain": [
       "array([[6.5850277, 6.985791 , 6.0245786, 6.4152203],\n",
       "       [6.305356 , 6.469516 , 6.929076 , 6.7772655],\n",
       "       [6.5428867, 6.665007 , 6.5762215, 6.879912 ]], dtype=float32)"
      ]
     },
     "execution_count": 51,
     "metadata": {},
     "output_type": "execute_result"
    }
   ],
   "source": [
    "t"
   ]
  },
  {
   "cell_type": "markdown",
   "id": "f26bf77a-8710-4aa3-a6b2-3b55c3174e0e",
   "metadata": {},
   "source": [
    "<h1>Datasets and Dataloaders</h1>"
   ]
  },
  {
   "cell_type": "markdown",
   "id": "638ab5a8-798c-4437-886d-8d9c62a008cc",
   "metadata": {},
   "source": [
    "<h2>Loading the Data</h2>"
   ]
  },
  {
   "cell_type": "markdown",
   "id": "998346e2-ff87-49b5-9f8f-3ba4e0bc3770",
   "metadata": {},
   "source": [
    "FashionMNIST dataset\n",
    "\n",
    "70000 images\n",
    "\n",
    "60000 training and 10000 testing examples\n",
    "\n",
    "28x28 pixel grayscale\n",
    "\n",
    "labels for 10 classes\n"
   ]
  },
  {
   "cell_type": "code",
   "execution_count": 52,
   "id": "1dec0910-ad7b-4bf4-bf30-b7abfb5e0bab",
   "metadata": {},
   "outputs": [],
   "source": [
    "import torch \n",
    "from torch.utils.data import Dataset\n",
    "from torchvision import datasets\n",
    "from torchvision.transforms import ToTensor\n",
    "import matplotlib.pyplot as plt"
   ]
  },
  {
   "cell_type": "code",
   "execution_count": 69,
   "id": "e4cd1f86-e3ca-46ff-96d4-21ee3fcc149f",
   "metadata": {},
   "outputs": [],
   "source": [
    "training_data = datasets.FashionMNIST(\n",
    "    root=\"data\",\n",
    "    train=True,\n",
    "    download=True,\n",
    "    transform=ToTensor()\n",
    ")\n",
    "\n",
    "test_data = datasets.FashionMNIST(\n",
    "    root=\"data\",\n",
    "    train=False,\n",
    "    download=True,\n",
    "    transform=ToTensor()\n",
    ")"
   ]
  },
  {
   "cell_type": "code",
   "execution_count": 66,
   "id": "34143873-734e-4972-978a-a10cd904aab8",
   "metadata": {},
   "outputs": [
    {
     "data": {
      "image/png": "[encoded data removed]",
      "text/plain": [
       "<Figure size 576x576 with 9 Axes>"
      ]
     },
     "metadata": {
      "needs_background": "light"
     },
     "output_type": "display_data"
    }
   ],
   "source": [
    "labels_map = {\n",
    "    0: \"T-Shirt\",\n",
    "    1: \"Trouser\",\n",
    "    2: \"Pullover\",\n",
    "    3: \"Dress\",\n",
    "    4: \"Coat\",\n",
    "    5: \"Sandal\",\n",
    "    6: \"Shirt\",\n",
    "    7: \"Sneaker\",\n",
    "    8: \"Bag\",\n",
    "    9: \"Ankle Boot\",\n",
    "}\n",
    "\n",
    "figure = plt.figure(figsize=(8,8))\n",
    "cols, rows = 3, 3\n",
    "\n",
    "for i in range(1, cols*rows + 1):\n",
    "    sample_idx = torch.randint(len(training_data), size=(1,)).item()\n",
    "    img, label = training_data[sample_idx]\n",
    "    figure.add_subplot(rows, cols, i)\n",
    "    plt.title(labels_map[label])\n",
    "    plt.axis(\"off\")\n",
    "    plt.imshow(img.squeeze(), cmap=\"gray\")    \n",
    "plt.show()"
   ]
  },
  {
   "cell_type": "markdown",
   "id": "801e8abb-ca49-4a0c-bebd-5bdc4d8009f8",
   "metadata": {},
   "source": [
    "<h2>Creating a custom dataset for my files</h2>"
   ]
  },
  {
   "cell_type": "code",
   "execution_count": 67,
   "id": "5ca2a41b-7b9c-4497-be66-663e06cf28c3",
   "metadata": {},
   "outputs": [],
   "source": [
    "import os\n",
    "import pandas as pd\n",
    "from torchvision.io import read_image\n",
    "\n",
    "class CustomImageDataset(Dataset):\n",
    "    def __init__(self, annotations_file, img_dir, transform=None, target_transform=None):\n",
    "        self.img_labels = pd.read_csv(annotations_file)\n",
    "        self.img_dir = img_dir\n",
    "        self.transform = transform\n",
    "        self.target_transform = target_transform\n",
    "        \n",
    "    \n",
    "    def __len__(self):\n",
    "        return len(self.img_labels)\n",
    "    \n",
    "    \n",
    "    def __getitem__(self, idx):\n",
    "        img_path = os.path.join(self.img_dir, self.img_labels.iloc[idx, 0])\n",
    "        image = read_image(img_path)\n",
    "        label = self.img_labels.iloc[idx, 1]\n",
    "        if self.transform:\n",
    "            image = self.transform(image)\n",
    "        if self.target_transform:\n",
    "            label = self.target_transform(label)\n",
    "        return image, label\n",
    "    "
   ]
  },
  {
   "cell_type": "markdown",
   "id": "a32a8d1f-ca02-41f6-888b-d28d9ad64852",
   "metadata": {},
   "source": [
    "<h2>Preparing data for training with DataLoaders</h2>"
   ]
  },
  {
   "cell_type": "code",
   "execution_count": 250,
   "id": "9e235750-563f-47df-b865-9cfb8b178a4d",
   "metadata": {},
   "outputs": [],
   "source": [
    "from torch.utils.data import DataLoader\n",
    "\n",
    "train_dataloader = DataLoader(training_data, batch_size=32, shuffle=True)\n",
    "test_dataloader = DataLoader(test_data, batch_size=32, shuffle=True)"
   ]
  },
  {
   "cell_type": "code",
   "execution_count": 251,
   "id": "6683dfa0-83ee-4ed2-9c79-63c83d457a26",
   "metadata": {},
   "outputs": [
    {
     "name": "stdout",
     "output_type": "stream",
     "text": [
      "Feature batch shape: torch.Size([32, 1, 28, 28])\n",
      "Labels batch shape: torch.Size([32])\n"
     ]
    },
    {
     "data": {
      "image/png": "[encoded data removed]",
      "text/plain": [
       "<Figure size 432x288 with 1 Axes>"
      ]
     },
     "metadata": {
      "needs_background": "light"
     },
     "output_type": "display_data"
    },
    {
     "name": "stdout",
     "output_type": "stream",
     "text": [
      "Label: 3\n"
     ]
    }
   ],
   "source": [
    "# Display Image and label\n",
    "train_features, train_labels = next(iter(train_dataloader))\n",
    "print(f\"Feature batch shape: {train_features.size()}\")\n",
    "print(f\"Labels batch shape: {train_labels.size()}\")\n",
    "img = train_features[0].squeeze()\n",
    "label = train_labels[0]\n",
    "plt.imshow(img, cmap='gray')\n",
    "plt.show()\n",
    "print(f\"Label: {label}\")"
   ]
  },
  {
   "cell_type": "markdown",
   "id": "8b37ffed-9482-4c66-a63c-15079f8fad26",
   "metadata": {},
   "source": [
    "<h1>Transforms</h1>"
   ]
  },
  {
   "cell_type": "code",
   "execution_count": 252,
   "id": "883bbc9e-0099-4827-8552-0a6238111c80",
   "metadata": {},
   "outputs": [],
   "source": [
    "from torchvision.transforms import ToTensor, Lambda\n",
    "\n",
    "ds = datasets.FashionMNIST(root='data',\n",
    "                           train=True,\n",
    "                           download=True,\n",
    "                           transform=ToTensor(),\n",
    "                           target_transform=Lambda(lambda y: torch.zeros(10, dtype=torch.float).scatter(0,\n",
    "                                                                                                        torch.tesnor(y), value=1))\n",
    "                          )"
   ]
  },
  {
   "cell_type": "markdown",
   "id": "42d6f92c-5f69-48f0-b9ce-513af06f2e62",
   "metadata": {},
   "source": [
    "<h1>Building the Neural Network</h1>"
   ]
  },
  {
   "cell_type": "code",
   "execution_count": 253,
   "id": "ae33530d-8d80-4f1b-9fac-98e3ae3ca9d1",
   "metadata": {},
   "outputs": [],
   "source": [
    "import os\n",
    "from torch import nn\n",
    "from torchvision import transforms"
   ]
  },
  {
   "cell_type": "code",
   "execution_count": 254,
   "id": "479c67d5-7918-4bf6-b5c1-6987abe60890",
   "metadata": {},
   "outputs": [
    {
     "name": "stdout",
     "output_type": "stream",
     "text": [
      "Using cpu device\n"
     ]
    }
   ],
   "source": [
    "device = \"cpu\" if torch.cuda.is_available() else cpu\n",
    "print(f\"Using {device} device\")"
   ]
  },
  {
   "cell_type": "code",
   "execution_count": 255,
   "id": "27662114-fbee-4d07-8297-3eb5c81d7d71",
   "metadata": {},
   "outputs": [],
   "source": [
    "class NeuralNetwork(nn.Module):\n",
    "    def __init__(self):\n",
    "        super(NeuralNetwork, self).__init__()\n",
    "        self.flatten = nn.Flatten()\n",
    "        self.linear_relu_stack = nn.Sequential(\n",
    "            nn.Linear(28*28, 512),\n",
    "            nn.ReLU(),\n",
    "            nn.Linear(512, 512),\n",
    "            nn.ReLU(),\n",
    "            nn.Linear(512,10)\n",
    "        )\n",
    "        \n",
    "    def forward(self, x):\n",
    "        x = self.flatten(x)\n",
    "        logits = self.linear_relu_stack(x)\n",
    "        return logits\n",
    "    "
   ]
  },
  {
   "cell_type": "code",
   "execution_count": 256,
   "id": "42188e04-0e91-42fb-9c59-8eb4a0247d84",
   "metadata": {},
   "outputs": [
    {
     "name": "stdout",
     "output_type": "stream",
     "text": [
      "NeuralNetwork(\n",
      "  (flatten): Flatten(start_dim=1, end_dim=-1)\n",
      "  (linear_relu_stack): Sequential(\n",
      "    (0): Linear(in_features=784, out_features=512, bias=True)\n",
      "    (1): ReLU()\n",
      "    (2): Linear(in_features=512, out_features=512, bias=True)\n",
      "    (3): ReLU()\n",
      "    (4): Linear(in_features=512, out_features=10, bias=True)\n",
      "  )\n",
      ")\n"
     ]
    }
   ],
   "source": [
    "model = NeuralNetwork().to(device)\n",
    "print(model)"
   ]
  },
  {
   "cell_type": "code",
   "execution_count": 257,
   "id": "c3bb85f4-a921-4250-9346-cb24f008cc93",
   "metadata": {},
   "outputs": [
    {
     "name": "stdout",
     "output_type": "stream",
     "text": [
      "Predicted class tensor([9])\n"
     ]
    }
   ],
   "source": [
    "X = torch.rand(1, 28, 28, device=device)\n",
    "logits = model(X)\n",
    "pred_probab = nn.Softmax(dim=1)(logits)\n",
    "y_pred = pred_probab.argmax(1)\n",
    "print(f\"Predicted class {y_pred}\")"
   ]
  },
  {
   "cell_type": "code",
   "execution_count": 258,
   "id": "4e993349-346a-4b70-b338-eb49a905b1aa",
   "metadata": {},
   "outputs": [
    {
     "data": {
      "text/plain": [
       "tensor([[0.0961, 0.1061, 0.0941, 0.0977, 0.0982, 0.0928, 0.1050, 0.0951, 0.0986,\n",
       "         0.1163]], grad_fn=<SoftmaxBackward0>)"
      ]
     },
     "execution_count": 258,
     "metadata": {},
     "output_type": "execute_result"
    }
   ],
   "source": [
    "pred_probab"
   ]
  },
  {
   "cell_type": "code",
   "execution_count": 259,
   "id": "c3257a35-af78-43d5-82bc-033b0f77ff50",
   "metadata": {},
   "outputs": [
    {
     "data": {
      "text/plain": [
       "tensor([[[0.5901, 0.7402, 0.3044,  ..., 0.2769, 0.9973, 0.8896],\n",
       "         [0.7623, 0.0731, 0.3435,  ..., 0.7716, 0.9741, 0.2006],\n",
       "         [0.6579, 0.1143, 0.6000,  ..., 0.5259, 0.6694, 0.5110],\n",
       "         ...,\n",
       "         [0.2440, 0.9427, 0.7895,  ..., 0.8833, 0.4258, 0.9971],\n",
       "         [0.4204, 0.9192, 0.4749,  ..., 0.7321, 0.9761, 0.8748],\n",
       "         [0.3392, 0.5364, 0.2229,  ..., 0.5069, 0.8262, 0.4133]],\n",
       "\n",
       "        [[0.5455, 0.2370, 0.0546,  ..., 0.9956, 0.1100, 0.4542],\n",
       "         [0.0670, 0.9120, 0.6105,  ..., 0.1958, 0.4519, 0.4992],\n",
       "         [0.9527, 0.1877, 0.1171,  ..., 0.7700, 0.4385, 0.1562],\n",
       "         ...,\n",
       "         [0.5556, 0.7068, 0.8499,  ..., 0.8863, 0.7293, 0.2357],\n",
       "         [0.4432, 0.8109, 0.4659,  ..., 0.5809, 0.9465, 0.8704],\n",
       "         [0.1498, 0.1190, 0.3489,  ..., 0.2990, 0.5905, 0.5902]],\n",
       "\n",
       "        [[0.2361, 0.3102, 0.2692,  ..., 0.9199, 0.1088, 0.0393],\n",
       "         [0.9167, 0.8894, 0.9533,  ..., 0.5615, 0.5788, 0.6922],\n",
       "         [0.8035, 0.3506, 0.4895,  ..., 0.7155, 0.9765, 0.4622],\n",
       "         ...,\n",
       "         [0.8372, 0.0297, 0.4775,  ..., 0.5161, 0.8436, 0.2906],\n",
       "         [0.7180, 0.2407, 0.5701,  ..., 0.2900, 0.9075, 0.1585],\n",
       "         [0.5825, 0.2429, 0.5640,  ..., 0.0370, 0.5408, 0.7150]]])"
      ]
     },
     "execution_count": 259,
     "metadata": {},
     "output_type": "execute_result"
    }
   ],
   "source": [
    "input_image = torch.rand(3, 28, 28)\n",
    "input_image"
   ]
  },
  {
   "cell_type": "code",
   "execution_count": 260,
   "id": "1b956060-5644-43e1-9de1-4ef307d16178",
   "metadata": {},
   "outputs": [
    {
     "name": "stdout",
     "output_type": "stream",
     "text": [
      "torch.Size([3, 784])\n"
     ]
    }
   ],
   "source": [
    "flatten = nn.Flatten()\n",
    "flat_image = flatten(input_image)\n",
    "print(flat_image.size())"
   ]
  },
  {
   "cell_type": "code",
   "execution_count": 261,
   "id": "8051ba8b-74e9-4160-a607-e2d31cb77dc6",
   "metadata": {},
   "outputs": [
    {
     "name": "stdout",
     "output_type": "stream",
     "text": [
      "torch.Size([3, 20])\n"
     ]
    }
   ],
   "source": [
    "layer1 = nn.Linear(in_features=28*28, out_features=20)\n",
    "hidden1 = layer1(flat_image)\n",
    "print(hidden1.size())"
   ]
  },
  {
   "cell_type": "code",
   "execution_count": 262,
   "id": "3c70af63-d248-4b79-afbf-754ffc8c9ad8",
   "metadata": {},
   "outputs": [
    {
     "name": "stdout",
     "output_type": "stream",
     "text": [
      "Before ReLU: tensor([[-0.0703, -0.0058, -0.2189,  0.2303, -0.2428,  0.3726,  0.1115,  0.6719,\n",
      "          0.2417, -0.2134, -0.4383, -0.3765,  0.2461,  0.0499, -0.1433, -0.1272,\n",
      "          0.2155,  0.2062,  0.0956, -0.4124],\n",
      "        [-0.0532, -0.0088, -0.0055,  0.3442, -0.2471, -0.0977,  0.1688,  0.5621,\n",
      "          0.2070, -0.3477, -0.3045, -0.2750,  0.2337, -0.1681, -0.3709,  0.0045,\n",
      "         -0.0495,  0.3869, -0.2372,  0.2103],\n",
      "        [-0.7854, -0.3785, -0.1711,  0.3062, -0.0758,  0.1937,  0.3718,  0.5158,\n",
      "          0.2380, -0.2643, -0.3553, -0.3227, -0.1246, -0.1249, -0.1752,  0.1324,\n",
      "          0.3553,  0.3493,  0.0453,  0.0565]], grad_fn=<AddmmBackward0>)\n",
      "After ReLU: tensor([[0.0000, 0.0000, 0.0000, 0.2303, 0.0000, 0.3726, 0.1115, 0.6719, 0.2417,\n",
      "         0.0000, 0.0000, 0.0000, 0.2461, 0.0499, 0.0000, 0.0000, 0.2155, 0.2062,\n",
      "         0.0956, 0.0000],\n",
      "        [0.0000, 0.0000, 0.0000, 0.3442, 0.0000, 0.0000, 0.1688, 0.5621, 0.2070,\n",
      "         0.0000, 0.0000, 0.0000, 0.2337, 0.0000, 0.0000, 0.0045, 0.0000, 0.3869,\n",
      "         0.0000, 0.2103],\n",
      "        [0.0000, 0.0000, 0.0000, 0.3062, 0.0000, 0.1937, 0.3718, 0.5158, 0.2380,\n",
      "         0.0000, 0.0000, 0.0000, 0.0000, 0.0000, 0.0000, 0.1324, 0.3553, 0.3493,\n",
      "         0.0453, 0.0565]], grad_fn=<ReluBackward0>)\n"
     ]
    }
   ],
   "source": [
    "print(f\"Before ReLU: {hidden1}\")\n",
    "hidden1 = nn.ReLU()(hidden1)\n",
    "print(f\"After ReLU: {hidden1}\")"
   ]
  },
  {
   "cell_type": "code",
   "execution_count": 263,
   "id": "b4f12b73-698a-4c18-8956-45d5a876e0b6",
   "metadata": {},
   "outputs": [],
   "source": [
    "seq_modules = nn.Sequential(\n",
    "    flatten,\n",
    "    layer1,\n",
    "    nn.ReLU(),\n",
    "    nn.Linear(20, 10)\n",
    ")\n",
    "\n",
    "input_image = torch.rand(3, 28, 28)\n",
    "logits = seq_modules(input_image)"
   ]
  },
  {
   "cell_type": "code",
   "execution_count": 264,
   "id": "06e6f260-f3ed-4cbd-b8a4-3f3bc83a97b8",
   "metadata": {},
   "outputs": [
    {
     "data": {
      "text/plain": [
       "tensor([[-0.1497, -0.1828,  0.3275, -0.1125,  0.0573, -0.0239, -0.0395,  0.3672,\n",
       "         -0.0478, -0.1722],\n",
       "        [-0.1998, -0.2712,  0.3536, -0.2139,  0.0005, -0.0770, -0.0732,  0.3357,\n",
       "         -0.1024, -0.2684],\n",
       "        [-0.1274, -0.2740,  0.3672, -0.1780, -0.0460, -0.0741, -0.0884,  0.4227,\n",
       "         -0.0371, -0.2531]], grad_fn=<AddmmBackward0>)"
      ]
     },
     "execution_count": 264,
     "metadata": {},
     "output_type": "execute_result"
    }
   ],
   "source": [
    "logits"
   ]
  },
  {
   "cell_type": "code",
   "execution_count": 265,
   "id": "2d90d6f2-5c0d-4eff-8bed-e79959011cda",
   "metadata": {},
   "outputs": [
    {
     "data": {
      "text/plain": [
       "tensor([[0.0843, 0.0816, 0.1359, 0.0875, 0.1037, 0.0956, 0.0941, 0.1414, 0.0934,\n",
       "         0.0824],\n",
       "        [0.0841, 0.0783, 0.1463, 0.0829, 0.1028, 0.0951, 0.0955, 0.1437, 0.0927,\n",
       "         0.0785],\n",
       "        [0.0882, 0.0761, 0.1446, 0.0838, 0.0956, 0.0930, 0.0917, 0.1528, 0.0965,\n",
       "         0.0777]], grad_fn=<SoftmaxBackward0>)"
      ]
     },
     "execution_count": 265,
     "metadata": {},
     "output_type": "execute_result"
    }
   ],
   "source": [
    "softmax = nn.Softmax(dim=1)\n",
    "pred_prob = softmax(logits)\n",
    "pred_prob"
   ]
  },
  {
   "cell_type": "code",
   "execution_count": 266,
   "id": "950c85a9-947a-4074-84b6-ac003d55df75",
   "metadata": {},
   "outputs": [
    {
     "name": "stdout",
     "output_type": "stream",
     "text": [
      "Model Structure: NeuralNetwork(\n",
      "  (flatten): Flatten(start_dim=1, end_dim=-1)\n",
      "  (linear_relu_stack): Sequential(\n",
      "    (0): Linear(in_features=784, out_features=512, bias=True)\n",
      "    (1): ReLU()\n",
      "    (2): Linear(in_features=512, out_features=512, bias=True)\n",
      "    (3): ReLU()\n",
      "    (4): Linear(in_features=512, out_features=10, bias=True)\n",
      "  )\n",
      ")\n",
      "\n",
      "\n",
      "Layer: linear_relu_stack.0.weight | Size: torch.Size([512, 784]) | Values : tensor([[-0.0033,  0.0072, -0.0264,  ...,  0.0220,  0.0284,  0.0127],\n",
      "        [-0.0234,  0.0317,  0.0102,  ...,  0.0110, -0.0166,  0.0126]],\n",
      "       grad_fn=<SliceBackward0>) \n",
      "\n",
      "Layer: linear_relu_stack.0.bias | Size: torch.Size([512]) | Values : tensor([0.0033, 0.0248], grad_fn=<SliceBackward0>) \n",
      "\n",
      "Layer: linear_relu_stack.2.weight | Size: torch.Size([512, 512]) | Values : tensor([[ 0.0181,  0.0393, -0.0342,  ...,  0.0030,  0.0290, -0.0089],\n",
      "        [-0.0147, -0.0286, -0.0117,  ..., -0.0006,  0.0252,  0.0058]],\n",
      "       grad_fn=<SliceBackward0>) \n",
      "\n",
      "Layer: linear_relu_stack.2.bias | Size: torch.Size([512]) | Values : tensor([-0.0210,  0.0111], grad_fn=<SliceBackward0>) \n",
      "\n",
      "Layer: linear_relu_stack.4.weight | Size: torch.Size([10, 512]) | Values : tensor([[ 0.0073, -0.0032,  0.0388,  ..., -0.0230,  0.0089, -0.0262],\n",
      "        [ 0.0289, -0.0191, -0.0251,  ...,  0.0345,  0.0156, -0.0213]],\n",
      "       grad_fn=<SliceBackward0>) \n",
      "\n",
      "Layer: linear_relu_stack.4.bias | Size: torch.Size([10]) | Values : tensor([-0.0036, -0.0255], grad_fn=<SliceBackward0>) \n",
      "\n"
     ]
    }
   ],
   "source": [
    "print(f\"Model Structure: {model}\\n\\n\")\n",
    "\n",
    "for name, param in model.named_parameters():\n",
    "    print(f\"Layer: {name} | Size: {param.size()} | Values : {param[:2]} \\n\")"
   ]
  },
  {
   "cell_type": "markdown",
   "id": "72476f1f-aba4-4f67-a7ed-b6c1edc98c62",
   "metadata": {},
   "source": [
    "<h1>Automatic Differentiation with Torch.Autograd</h1>"
   ]
  },
  {
   "cell_type": "code",
   "execution_count": 267,
   "id": "7fe7f1fe-f4b5-4031-a445-ce90ebd897e8",
   "metadata": {},
   "outputs": [
    {
     "data": {
      "text/plain": [
       "tensor(1.5405, grad_fn=<BinaryCrossEntropyWithLogitsBackward0>)"
      ]
     },
     "execution_count": 267,
     "metadata": {},
     "output_type": "execute_result"
    }
   ],
   "source": [
    "x = torch.ones(5) # input tensor\n",
    "y = torch.zeros(3) # expected output\n",
    "w = torch.randn(5, 3, requires_grad=True)\n",
    "b = torch.randn(3, requires_grad = True)\n",
    "z = torch.matmul(x, w)+b\n",
    "loss = torch.nn.functional.binary_cross_entropy_with_logits(z, y)\n",
    "loss"
   ]
  },
  {
   "cell_type": "code",
   "execution_count": 268,
   "id": "40cd4558-8e82-4a05-bd05-f4678dc01b02",
   "metadata": {},
   "outputs": [],
   "source": [
    "def train_loop(dataloader, model, loss_fn, optimizer):\n",
    "    size = len(dataloader.dataset)\n",
    "    for batch, (X,y) in enumerate(dataloader):\n",
    "        pred=model(X)\n",
    "        loss = loss_fn(pred, y)\n",
    "        \n",
    "        optimizer.zero_grad()\n",
    "        loss.backward()\n",
    "        optimizer.step()\n",
    "        \n",
    "        if batch%100 == 0:\n",
    "            loss, current = loss.item(), batch*len(X)\n",
    "            print(f\"loss: {loss:>7f} [{current:>5d}/{size:>5d}]\")\n",
    "            \n",
    "            \n",
    "def test_loop(dataloader, model, loss_fn):\n",
    "    size = len(dataloader.dataset)\n",
    "    num_batches = len(dataloader)\n",
    "    test_loss, correct = 0, 0\n",
    "    \n",
    "    with torch.no_grad():\n",
    "        for X,y in dataloader:\n",
    "            pred = model(X)\n",
    "            test_loss += loss_fn(pred, y).item()\n",
    "            correct += (pred.argmax(1) == y).type(torch.float).sum().item()\n",
    "            \n",
    "    test_loss /= num_batches\n",
    "    correct /= size\n",
    "    print(f\"Test Error: \\n Accuracy: {(100*correct):>0.1f}%, Avg. Loss: {test_loss:>8f} \\n\")"
   ]
  },
  {
   "cell_type": "code",
   "execution_count": 269,
   "id": "fd67da23-66d1-42c3-8b7f-6c81a2cb524e",
   "metadata": {},
   "outputs": [
    {
     "name": "stdout",
     "output_type": "stream",
     "text": [
      "Epoch 1\n",
      "-------------------------\n",
      "loss: 2.300001 [    0/60000]\n",
      "loss: 2.277525 [ 3200/60000]\n",
      "loss: 2.272964 [ 6400/60000]\n",
      "loss: 2.236795 [ 9600/60000]\n",
      "loss: 2.214750 [12800/60000]\n",
      "loss: 2.230278 [16000/60000]\n",
      "loss: 2.209624 [19200/60000]\n",
      "loss: 2.176745 [22400/60000]\n",
      "loss: 2.167335 [25600/60000]\n",
      "loss: 2.129325 [28800/60000]\n",
      "loss: 2.105167 [32000/60000]\n",
      "loss: 2.110177 [35200/60000]\n",
      "loss: 2.094321 [38400/60000]\n",
      "loss: 2.128995 [41600/60000]\n",
      "loss: 2.012868 [44800/60000]\n",
      "loss: 2.007255 [48000/60000]\n",
      "loss: 1.923862 [51200/60000]\n",
      "loss: 2.028585 [54400/60000]\n",
      "loss: 1.864562 [57600/60000]\n",
      "Test Error: \n",
      " Accuracy: 57.2%, Avg. Loss: 1.871838 \n",
      "\n",
      "Epoch 2\n",
      "-------------------------\n",
      "loss: 1.912487 [    0/60000]\n",
      "loss: 1.884413 [ 3200/60000]\n",
      "loss: 1.834139 [ 6400/60000]\n",
      "loss: 1.747597 [ 9600/60000]\n",
      "loss: 1.743492 [12800/60000]\n",
      "loss: 1.673482 [16000/60000]\n",
      "loss: 1.684543 [19200/60000]\n",
      "loss: 1.612033 [22400/60000]\n",
      "loss: 1.542521 [25600/60000]\n",
      "loss: 1.526766 [28800/60000]\n",
      "loss: 1.412032 [32000/60000]\n",
      "loss: 1.506597 [35200/60000]\n",
      "loss: 1.494455 [38400/60000]\n",
      "loss: 1.346071 [41600/60000]\n",
      "loss: 1.466517 [44800/60000]\n",
      "loss: 1.240842 [48000/60000]\n",
      "loss: 1.344663 [51200/60000]\n",
      "loss: 1.285704 [54400/60000]\n",
      "loss: 1.538464 [57600/60000]\n",
      "Test Error: \n",
      " Accuracy: 62.8%, Avg. Loss: 1.251954 \n",
      "\n",
      "Epoch 3\n",
      "-------------------------\n",
      "loss: 1.174469 [    0/60000]\n",
      "loss: 1.371021 [ 3200/60000]\n",
      "loss: 1.348429 [ 6400/60000]\n",
      "loss: 1.377054 [ 9600/60000]\n",
      "loss: 1.103831 [12800/60000]\n",
      "loss: 1.123769 [16000/60000]\n",
      "loss: 1.104596 [19200/60000]\n",
      "loss: 1.118102 [22400/60000]\n",
      "loss: 1.135147 [25600/60000]\n",
      "loss: 0.946837 [28800/60000]\n",
      "loss: 1.092088 [32000/60000]\n",
      "loss: 1.271845 [35200/60000]\n",
      "loss: 0.944959 [38400/60000]\n",
      "loss: 1.042866 [41600/60000]\n",
      "loss: 0.928151 [44800/60000]\n",
      "loss: 0.858510 [48000/60000]\n",
      "loss: 1.000561 [51200/60000]\n",
      "loss: 0.985145 [54400/60000]\n",
      "loss: 0.935537 [57600/60000]\n",
      "Test Error: \n",
      " Accuracy: 65.2%, Avg. Loss: 0.983535 \n",
      "\n",
      "Epoch 4\n",
      "-------------------------\n",
      "loss: 0.813675 [    0/60000]\n",
      "loss: 1.061157 [ 3200/60000]\n",
      "loss: 0.876195 [ 6400/60000]\n",
      "loss: 0.772883 [ 9600/60000]\n",
      "loss: 1.199236 [12800/60000]\n",
      "loss: 0.867982 [16000/60000]\n",
      "loss: 1.008159 [19200/60000]\n",
      "loss: 1.036155 [22400/60000]\n",
      "loss: 1.052701 [25600/60000]\n",
      "loss: 0.886110 [28800/60000]\n",
      "loss: 0.914638 [32000/60000]\n",
      "loss: 0.864245 [35200/60000]\n",
      "loss: 0.785386 [38400/60000]\n",
      "loss: 0.883028 [41600/60000]\n",
      "loss: 0.702352 [44800/60000]\n",
      "loss: 0.962814 [48000/60000]\n",
      "loss: 0.900217 [51200/60000]\n",
      "loss: 0.761319 [54400/60000]\n",
      "loss: 0.966877 [57600/60000]\n",
      "Test Error: \n",
      " Accuracy: 67.3%, Avg. Loss: 0.861216 \n",
      "\n",
      "Epoch 5\n",
      "-------------------------\n",
      "loss: 0.767503 [    0/60000]\n",
      "loss: 0.631261 [ 3200/60000]\n",
      "loss: 0.722041 [ 6400/60000]\n",
      "loss: 1.074091 [ 9600/60000]\n",
      "loss: 0.771169 [12800/60000]\n",
      "loss: 0.837833 [16000/60000]\n",
      "loss: 0.918368 [19200/60000]\n",
      "loss: 0.519064 [22400/60000]\n",
      "loss: 0.754995 [25600/60000]\n",
      "loss: 0.822153 [28800/60000]\n",
      "loss: 0.653384 [32000/60000]\n",
      "loss: 0.669213 [35200/60000]\n",
      "loss: 0.697937 [38400/60000]\n",
      "loss: 0.772542 [41600/60000]\n",
      "loss: 0.806914 [44800/60000]\n",
      "loss: 0.896608 [48000/60000]\n",
      "loss: 0.893429 [51200/60000]\n",
      "loss: 1.089930 [54400/60000]\n",
      "loss: 0.826262 [57600/60000]\n",
      "Test Error: \n",
      " Accuracy: 69.7%, Avg. Loss: 0.792349 \n",
      "\n",
      "Done!\n"
     ]
    }
   ],
   "source": [
    "learning_rate = 1e-3\n",
    "batch_size = 64\n",
    "epochs = 5\n",
    "\n",
    "loss_fn = nn.CrossEntropyLoss()\n",
    "optimizer = torch.optim.SGD(model.parameters(), lr=learning_rate)\n",
    "\n",
    "for t in range(epochs):\n",
    "    print(f\"Epoch {t+1}\\n-------------------------\")\n",
    "    train_loop(train_dataloader, model, loss_fn, optimizer)\n",
    "    test_loop(test_dataloader, model, loss_fn)\n",
    "print('Done!')"
   ]
  },
  {
   "cell_type": "code",
   "execution_count": null,
   "id": "fdad4368-c4b8-440f-b226-6ad11f549df0",
   "metadata": {},
   "outputs": [],
   "source": []
  },
  {
   "cell_type": "code",
   "execution_count": null,
   "id": "fae02b84-66e5-4ab7-8e6c-c4c418e27dc3",
   "metadata": {},
   "outputs": [],
   "source": []
  },
  {
   "cell_type": "code",
   "execution_count": null,
   "id": "364227aa-2b0c-44b1-862e-68981a60cc4f",
   "metadata": {},
   "outputs": [],
   "source": []
  }
 ],
 "metadata": {
  "kernelspec": {
   "display_name": "Python [conda env:torch]",
   "language": "python",
   "name": "conda-env-torch-py"
  },
  "language_info": {
   "codemirror_mode": {
    "name": "ipython",
    "version": 3
   },
   "file_extension": ".py",
   "mimetype": "text/x-python",
   "name": "python",
   "nbconvert_exporter": "python",
   "pygments_lexer": "ipython3",
   "version": "3.10.5"
  }
 },
 "nbformat": 4,
 "nbformat_minor": 5
}
